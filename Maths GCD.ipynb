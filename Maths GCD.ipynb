{
 "cells": [
  {
   "cell_type": "code",
   "execution_count": 5,
   "metadata": {},
   "outputs": [
    {
     "name": "stdout",
     "output_type": "stream",
     "text": [
      "Enter the first number : 8123\n",
      "Enter the second number : 68960\n",
      "8123  =  68960  *  0  +  8123\n",
      "68960  =  8123  *  8  +  3976\n",
      "8123  =  3976  *  2  +  171\n",
      "3976  =  171  *  23  +  43\n",
      "171  =  43  *  3  +  42\n",
      "43  =  42  *  1  +  1\n",
      "42  =  1  *  42  +  0\n",
      "\n",
      " GCD of  8123  and  68960  is  1\n"
     ]
    }
   ],
   "source": [
    "def gcd(a, b):\n",
    "    r = a%b\n",
    "    q = a//b\n",
    "    print(a,\" = \",b,\" * \",q,\" + \",r)\n",
    "    if(r != 0):\n",
    "        gcd(b, r)\n",
    "    else:\n",
    "        print(\"\\n GCD of \",n1,\" and \",n2,\" is \",b)\n",
    "    \n",
    "\n",
    "n1 = int(input(\"Enter the first number : \"))\n",
    "n2 = int(input(\"Enter the second number : \"))\n",
    "gcd(n1, n2)"
   ]
  },
  {
   "cell_type": "code",
   "execution_count": null,
   "metadata": {},
   "outputs": [],
   "source": []
  }
 ],
 "metadata": {
  "kernelspec": {
   "display_name": "Python 3",
   "language": "python",
   "name": "python3"
  },
  "language_info": {
   "codemirror_mode": {
    "name": "ipython",
    "version": 3
   },
   "file_extension": ".py",
   "mimetype": "text/x-python",
   "name": "python",
   "nbconvert_exporter": "python",
   "pygments_lexer": "ipython3",
   "version": "3.8.3"
  }
 },
 "nbformat": 4,
 "nbformat_minor": 4
}
